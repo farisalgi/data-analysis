{
 "cells": [
  {
   "cell_type": "code",
   "execution_count": 23,
   "metadata": {},
   "outputs": [],
   "source": [
    "import pandas as pd\n",
    "import numpy as np\n",
    "import scipy.stats as stats\n",
    "from numpy.linalg import inv"
   ]
  },
  {
   "cell_type": "code",
   "execution_count": 24,
   "metadata": {},
   "outputs": [],
   "source": [
    "def clean_data(df):\n",
    "    for col in df.columns:\n",
    "        if df[col].dtype == 'object':\n",
    "            df[col] = df[col].str.replace(\",\", \"\").str.replace(\"$\", \"\").astype(float)\n",
    "    return df.dropna()"
   ]
  },
  {
   "cell_type": "code",
   "execution_count": 25,
   "metadata": {},
   "outputs": [
    {
     "name": "stdout",
     "output_type": "stream",
     "text": [
      "GDP                                  0\n",
      "Exports                              0\n",
      "Imports                              0\n",
      "Industrial production growth rate    0\n",
      "Investment                           0\n",
      "Unemployment rate                    0\n",
      "dtype: int64\n"
     ]
    },
    {
     "name": "stderr",
     "output_type": "stream",
     "text": [
      "C:\\Users\\Luxford\\AppData\\Local\\Temp\\ipykernel_16256\\4068154764.py:4: FutureWarning: The default value of regex will change from True to False in a future version. In addition, single character regular expressions will *not* be treated as literal strings when regex=True.\n",
      "  df[col] = df[col].str.replace(\",\", \"\").str.replace(\"$\", \"\").astype(float)\n",
      "C:\\Users\\Luxford\\AppData\\Local\\Temp\\ipykernel_16256\\4068154764.py:4: SettingWithCopyWarning: \n",
      "A value is trying to be set on a copy of a slice from a DataFrame.\n",
      "Try using .loc[row_indexer,col_indexer] = value instead\n",
      "\n",
      "See the caveats in the documentation: https://pandas.pydata.org/pandas-docs/stable/user_guide/indexing.html#returning-a-view-versus-a-copy\n",
      "  df[col] = df[col].str.replace(\",\", \"\").str.replace(\"$\", \"\").astype(float)\n"
     ]
    },
    {
     "data": {
      "text/html": [
       "<div>\n",
       "<style scoped>\n",
       "    .dataframe tbody tr th:only-of-type {\n",
       "        vertical-align: middle;\n",
       "    }\n",
       "\n",
       "    .dataframe tbody tr th {\n",
       "        vertical-align: top;\n",
       "    }\n",
       "\n",
       "    .dataframe thead th {\n",
       "        text-align: right;\n",
       "    }\n",
       "</style>\n",
       "<table border=\"1\" class=\"dataframe\">\n",
       "  <thead>\n",
       "    <tr style=\"text-align: right;\">\n",
       "      <th></th>\n",
       "      <th>GDP</th>\n",
       "      <th>Exports</th>\n",
       "      <th>Imports</th>\n",
       "      <th>Industrial production growth rate</th>\n",
       "      <th>Investment</th>\n",
       "      <th>Unemployment rate</th>\n",
       "    </tr>\n",
       "  </thead>\n",
       "  <tbody>\n",
       "    <tr>\n",
       "      <th>0</th>\n",
       "      <td>1.746000e+10</td>\n",
       "      <td>5.524000e+08</td>\n",
       "      <td>2.076000e+09</td>\n",
       "      <td>3.1</td>\n",
       "      <td>18.4</td>\n",
       "      <td>14.8</td>\n",
       "    </tr>\n",
       "    <tr>\n",
       "      <th>1</th>\n",
       "      <td>2.123000e+11</td>\n",
       "      <td>3.216000e+10</td>\n",
       "      <td>1.525000e+10</td>\n",
       "      <td>6.0</td>\n",
       "      <td>26.2</td>\n",
       "      <td>25.4</td>\n",
       "    </tr>\n",
       "    <tr>\n",
       "      <th>3</th>\n",
       "      <td>4.835000e+11</td>\n",
       "      <td>3.378000e+10</td>\n",
       "      <td>2.206000e+10</td>\n",
       "      <td>12.0</td>\n",
       "      <td>18.3</td>\n",
       "      <td>14.8</td>\n",
       "    </tr>\n",
       "    <tr>\n",
       "      <th>4</th>\n",
       "      <td>1.365000e+10</td>\n",
       "      <td>8.500000e+08</td>\n",
       "      <td>1.300000e+09</td>\n",
       "      <td>15.0</td>\n",
       "      <td>19.8</td>\n",
       "      <td>30.0</td>\n",
       "    </tr>\n",
       "    <tr>\n",
       "      <th>5</th>\n",
       "      <td>6.117000e+11</td>\n",
       "      <td>8.689000e+10</td>\n",
       "      <td>9.810000e+10</td>\n",
       "      <td>1.9</td>\n",
       "      <td>25.3</td>\n",
       "      <td>5.1</td>\n",
       "    </tr>\n",
       "  </tbody>\n",
       "</table>\n",
       "</div>"
      ],
      "text/plain": [
       "            GDP       Exports       Imports  \\\n",
       "0  1.746000e+10  5.524000e+08  2.076000e+09   \n",
       "1  2.123000e+11  3.216000e+10  1.525000e+10   \n",
       "3  4.835000e+11  3.378000e+10  2.206000e+10   \n",
       "4  1.365000e+10  8.500000e+08  1.300000e+09   \n",
       "5  6.117000e+11  8.689000e+10  9.810000e+10   \n",
       "\n",
       "   Industrial production growth rate  Investment  Unemployment rate  \n",
       "0                                3.1        18.4               14.8  \n",
       "1                                6.0        26.2               25.4  \n",
       "3                               12.0        18.3               14.8  \n",
       "4                               15.0        19.8               30.0  \n",
       "5                                1.9        25.3                5.1  "
      ]
     },
     "execution_count": 25,
     "metadata": {},
     "output_type": "execute_result"
    }
   ],
   "source": [
    "# Read data\n",
    "data = pd.read_csv(\"C:/Users/Luxford/Documents/Lesson/AD/factbookv2.csv\")\n",
    "\n",
    "# Filter and process the data\n",
    "data_dipake = [\"GDP\", \"Exports\", \"Imports\", \"Industrial production growth rate\", \"Investment\", \"Unemployment rate\"]\n",
    "df = clean_data(data[data_dipake])\n",
    "\n",
    "# Check for missing values and display the first five rows\n",
    "print(df.isnull().sum())\n",
    "df.head()"
   ]
  },
  {
   "cell_type": "code",
   "execution_count": 26,
   "metadata": {},
   "outputs": [],
   "source": [
    "def create_X(df, *vars):\n",
    "    n = df['GDP'].count()\n",
    "    X = np.array([np.ones(n)] + [df[var] for var in vars]).T\n",
    "    return X\n",
    "\n",
    "def calculate_b(X, Y):\n",
    "    return np.matmul(np.matmul(inv(np.matmul(X.T, X)), X.T), Y)\n",
    "\n",
    "def calculate_y_hat(X, b):\n",
    "    return np.matmul(X, b)\n",
    "\n",
    "def calculate_Rb(y_hat, y_avg):\n",
    "    return np.matmul((y_hat - y_avg).T, (y_hat - y_avg))\n",
    "\n",
    "def calculate_f(Rb, sse, n, k):\n",
    "    return Rb / (sse / (n - k - 1))\n"
   ]
  },
  {
   "cell_type": "code",
   "execution_count": 27,
   "metadata": {},
   "outputs": [],
   "source": [
    "def R_vars(df, *vars):\n",
    "    n = df['GDP'].count()\n",
    "    Y = np.array([df['GDP']]).T\n",
    "    y_avg = np.average(Y)\n",
    "    X = create_X(df, *vars)\n",
    "    b = calculate_b(X, Y)\n",
    "    y_hat = calculate_y_hat(X, b)\n",
    "    Rb = calculate_Rb(y_hat, y_avg)\n",
    "    return Rb, y_hat"
   ]
  },
  {
   "cell_type": "code",
   "execution_count": 28,
   "metadata": {},
   "outputs": [],
   "source": [
    "# Calculate Rb and y_hat for each model\n",
    "Rb1, y_hat1 = R_vars(df, 'Exports')\n",
    "Rb2, y_hat2 = R_vars(df, 'Imports')\n",
    "Rb3, y_hat3 = R_vars(df, 'Industrial production growth rate')\n",
    "Rb4, y_hat4 = R_vars(df, 'Investment')\n",
    "Rb5, y_hat5 = R_vars(df, 'Unemployment rate')"
   ]
  },
  {
   "cell_type": "code",
   "execution_count": 29,
   "metadata": {},
   "outputs": [
    {
     "name": "stdout",
     "output_type": "stream",
     "text": [
      "[[1.28742661e+26]]\n",
      "[[1.7256398e+26]]\n",
      "[[2.4349925e+23]]\n",
      "[[6.95704935e+23]]\n",
      "[[5.23362087e+24]]\n"
     ]
    }
   ],
   "source": [
    "print(Rb1)\n",
    "print(Rb2)\n",
    "print(Rb3)\n",
    "print(Rb4)\n",
    "print(Rb5)"
   ]
  },
  {
   "cell_type": "code",
   "execution_count": 30,
   "metadata": {},
   "outputs": [],
   "source": [
    "Y = np.array([df['GDP']]).T\n",
    "n = df['GDP'].count()"
   ]
  },
  {
   "cell_type": "code",
   "execution_count": null,
   "metadata": {},
   "outputs": [
    {
     "name": "stdout",
     "output_type": "stream",
     "text": [
      "MSE Model 2: [[4.49802423e+25]]\n",
      "f dari Model 2: [[437.35410609]]\n",
      "f dari tabel: 3.924330484639666\n"
     ]
    }
   ],
   "source": [
    "# Check whether b2 is significant or not\n",
    "k = 1\n",
    "\n",
    "sse2 = np.matmul((Y - y_hat2).T, (Y - y_hat2))\n",
    "print(f\"MSE Model 2: {sse2}\")\n",
    "f2 = Rb2/(sse2 / (n - k - 1))\n",
    "print(f\"f dari Model 2: {f2}\")\n",
    "f_table = stats.f.ppf(0.95, 1, n-k-1)\n",
    "print(f\"f dari tabel: {f_table}\")\n"
   ]
  },
  {
   "attachments": {},
   "cell_type": "markdown",
   "metadata": {},
   "source": [
    "So, because f model 2 > f table, then variable 2 has a significant influence"
   ]
  },
  {
   "cell_type": "code",
   "execution_count": 32,
   "metadata": {},
   "outputs": [],
   "source": [
    "# Calculate Rb and y_hat for combined models\n",
    "Rb21, y_hat21 = R_vars(df, 'Imports', 'Exports')\n",
    "Rb23, y_hat23 = R_vars(df, 'Imports', 'Industrial production growth rate')\n",
    "Rb24, y_hat24 = R_vars(df, 'Imports', 'Investment')\n",
    "Rb25, y_hat25 = R_vars(df, 'Imports', 'Unemployment rate')"
   ]
  },
  {
   "cell_type": "code",
   "execution_count": 33,
   "metadata": {},
   "outputs": [
    {
     "name": "stdout",
     "output_type": "stream",
     "text": [
      "[[1.76619881e+26]]\n",
      "[[1.74719666e+26]]\n",
      "[[1.73664248e+26]]\n",
      "[[1.72864702e+26]]\n"
     ]
    }
   ],
   "source": [
    "print(Rb21)\n",
    "print(Rb23)\n",
    "print(Rb24)\n",
    "print(Rb25)"
   ]
  },
  {
   "cell_type": "code",
   "execution_count": null,
   "metadata": {},
   "outputs": [
    {
     "name": "stdout",
     "output_type": "stream",
     "text": [
      "MSE Model B1: [[4.09243406e+25]]\n",
      "f penambahan variabel 1 pada Model B1: [[11.19912731]]\n",
      "f dari tabel: 3.9250756165304113\n"
     ]
    }
   ],
   "source": [
    "# Check whether the addition of b1 is significant or not (R(b1 | b2))\n",
    "# (R(b1 | b2) = R(b1, b2) - R(b2))\n",
    "k = 2\n",
    "\n",
    "sse21 = np.matmul((Y - y_hat21).T, (Y - y_hat21))\n",
    "print(f\"MSE Model B1: {sse21}\")\n",
    "f21 = (Rb21 - Rb2)/(sse21 / (n - k - 1))\n",
    "print(f\"f penambahan variabel 1 pada Model B1: {f21}\")\n",
    "f_table = stats.f.ppf(0.95, 1, n-k-1)\n",
    "print(f\"f dari tabel: {f_table}\")\n"
   ]
  },
  {
   "cell_type": "code",
   "execution_count": null,
   "metadata": {},
   "outputs": [
    {
     "name": "stdout",
     "output_type": "stream",
     "text": [
      "MSE Model B1: [[4.09243406e+25]]\n",
      "f b2 setelah ditambahkan b1 Model B1: [[132.19824267]]\n",
      "f dari tabel: 3.9250756165304113\n"
     ]
    }
   ],
   "source": [
    "# Check whether b2 is still significant or not, after adding b1\n",
    "# (R(b2 | b1) = R(b2, b1) - R(b1))\n",
    "k = 2\n",
    "\n",
    "sse21 = np.matmul((Y - y_hat21).T, (Y - y_hat21))\n",
    "print(f\"MSE Model B1: {sse21}\")\n",
    "f21 = (Rb21 - Rb1)/(sse21 / (n - k - 1))\n",
    "print(f\"f b2 setelah ditambahkan b1 Model B1: {f21}\")\n",
    "f_table = stats.f.ppf(0.95, 1, n-k-1)\n",
    "print(f\"f dari tabel: {f_table}\")"
   ]
  },
  {
   "attachments": {},
   "cell_type": "markdown",
   "metadata": {},
   "source": [
    "Since f model B1 > f table, after adding variable 1, variable 2 is still significant.\n",
    "This means we use variables 1 and 2."
   ]
  },
  {
   "cell_type": "code",
   "execution_count": 36,
   "metadata": {},
   "outputs": [],
   "source": [
    "# Calculate Rb and y_hat for 3-variable models\n",
    "Rb213, y_hat213 = R_vars(df, 'Imports', 'Exports', 'Industrial production growth rate')\n",
    "Rb214, y_hat214 = R_vars(df, 'Imports', 'Exports', 'Investment')\n",
    "Rb215, y_hat215 = R_vars(df, 'Imports', 'Exports', 'Unemployment rate')"
   ]
  },
  {
   "cell_type": "code",
   "execution_count": 37,
   "metadata": {},
   "outputs": [
    {
     "name": "stdout",
     "output_type": "stream",
     "text": [
      "[[1.78669291e+26]]\n",
      "[[1.77947588e+26]]\n",
      "[[1.76714336e+26]]\n"
     ]
    }
   ],
   "source": [
    "print(Rb213)\n",
    "print(Rb214)\n",
    "print(Rb215)"
   ]
  },
  {
   "cell_type": "code",
   "execution_count": null,
   "metadata": {},
   "outputs": [
    {
     "name": "stdout",
     "output_type": "stream",
     "text": [
      "MSE Model C1: [[3.88749308e+25]]\n",
      "f penambahan variabel 3 pada Model C1: [[5.90441939]]\n",
      "f dari tabel: 3.9258342687862307\n"
     ]
    }
   ],
   "source": [
    "# Check whether the addition of b3 is significant or not (R(b3 | b2, b1))\n",
    "# (R(b3 | b1, b2) = R(b1, b2, b3) - R(b1, b2))\n",
    "k = 3\n",
    "\n",
    "sse312 = np.matmul((Y - y_hat213).T, (Y - y_hat213))\n",
    "print(f\"MSE Model C1: {sse312}\")\n",
    "f312 = (Rb213 - Rb21)/(sse312 / (n - k - 1))\n",
    "print(f\"f penambahan variabel 3 pada Model C1: {f312}\")\n",
    "f_table = stats.f.ppf(0.95, 1, n-k-1)\n",
    "print(f\"f dari tabel: {f_table}\")\n"
   ]
  },
  {
   "cell_type": "code",
   "execution_count": null,
   "metadata": {},
   "outputs": [
    {
     "name": "stdout",
     "output_type": "stream",
     "text": [
      "MSE Model C1: [[3.88749308e+25]]\n",
      "f b1 setelah ditambahkan b2, b3 Model C1: [[11.37900419]]\n",
      "f dari tabel: 3.9258342687862307\n"
     ]
    }
   ],
   "source": [
    "# Check whether b1 is still significant after b3 is added.\n",
    "# (R(b1 | b2, b3) = R(b1, b2, b3) - R(b2, b3))\n",
    "k = 3\n",
    "\n",
    "sse123 = np.matmul((Y - y_hat213).T, (Y - y_hat213))\n",
    "print(f\"MSE Model C1: {sse123}\")\n",
    "f123 = (Rb213 - Rb23)/(sse123 / (n - k - 1))\n",
    "print(f\"f b1 setelah ditambahkan b2, b3 Model C1: {f123}\")\n",
    "f_table = stats.f.ppf(0.95, 1, n-k-1)\n",
    "print(f\"f dari tabel: {f_table}\")"
   ]
  },
  {
   "cell_type": "code",
   "execution_count": 40,
   "metadata": {},
   "outputs": [],
   "source": [
    "def R_2vars(df, var1, var2):\n",
    "    n = df['GDP'].count()\n",
    "    Y = np.array([df['GDP']]).T\n",
    "    y_avg = np.average(Y)\n",
    "\n",
    "    X12 = np.array([np.ones(n), df[var1], df[var2]]).T\n",
    "    b12 = np.matmul(np.matmul(inv(np.matmul(X12.T, X12)), X12.T), Y)\n",
    "    y_hat12 = np.matmul(X12, b12) # Prediksi Y (GDP) menggunakan model 1\n",
    "    Rb12 = np.matmul((y_hat12 - y_avg).T, (y_hat12 - y_avg))\n",
    "    return Rb12, y_hat12"
   ]
  },
  {
   "cell_type": "code",
   "execution_count": null,
   "metadata": {},
   "outputs": [
    {
     "name": "stdout",
     "output_type": "stream",
     "text": [
      "MSE Model C1: [[3.88749308e+25]]\n",
      "f b2 setelah ditambahkan b1, b3 Model C1: [[138.58263945]]\n",
      "f dari tabel: 3.9258342687862307\n"
     ]
    }
   ],
   "source": [
    "# Check whether b2 is still significant after b3 is added.\n",
    "# (R(b2 | b1, b3) = R(b1, b2, b3) - R(b1, b3))\n",
    "k = 3\n",
    "\n",
    "Rb13, _ = R_2vars(df, \"Exports\", \"Industrial production growth rate\")\n",
    "\n",
    "sse213 = np.matmul((Y - y_hat213).T, (Y - y_hat213))\n",
    "print(f\"MSE Model C1: {sse213}\")\n",
    "f213 = (Rb213 - Rb13)/(sse213 / (n - k - 1))\n",
    "print(f\"f b2 setelah ditambahkan b1, b3 Model C1: {f213}\")\n",
    "f_table = stats.f.ppf(0.95, 1, n-k-1)\n",
    "print(f\"f dari tabel: {f_table}\")"
   ]
  },
  {
   "attachments": {},
   "cell_type": "markdown",
   "metadata": {},
   "source": [
    "Because b1, b2 are still significant after adding b3, the model becomes b1, b2, b3"
   ]
  },
  {
   "cell_type": "code",
   "execution_count": 42,
   "metadata": {},
   "outputs": [],
   "source": [
    "# Calculate Rb and y_hat for 4-variable models\n",
    "Rb2134, y_hat2134 = R_vars(df, 'Imports', 'Exports', 'Industrial production growth rate', 'Investment')\n",
    "Rb2135, y_hat2135 = R_vars(df, 'Imports', 'Exports', 'Industrial production growth rate', 'Unemployment rate')"
   ]
  },
  {
   "cell_type": "code",
   "execution_count": 43,
   "metadata": {},
   "outputs": [
    {
     "name": "stdout",
     "output_type": "stream",
     "text": [
      "[[1.79315321e+26]]\n",
      "[[1.78767105e+26]]\n"
     ]
    }
   ],
   "source": [
    "print(Rb2134)\n",
    "print(Rb2135)"
   ]
  },
  {
   "cell_type": "code",
   "execution_count": null,
   "metadata": {},
   "outputs": [
    {
     "name": "stdout",
     "output_type": "stream",
     "text": [
      "MSE Model D1: [[3.82289012e+25]]\n",
      "f b4 setelah penambahan 4 variabel pada Model D1: [[1.87578719]]\n",
      "f dari tabel: 3.926606812744345\n"
     ]
    }
   ],
   "source": [
    "# Check whether the addition of b4 is significant or not (R(b4 | b1, b2, b3))\n",
    "# (R(b4 | b1, b2, b3) = R(b1, b2, b3, b4) - R(b1, b2, b3))\n",
    "k = 4\n",
    "\n",
    "sse41234 = np.matmul((Y - y_hat2134).T, (Y - y_hat2134))\n",
    "print(f\"MSE Model D1: {sse41234}\")\n",
    "f41234 = (Rb2134 - Rb213)/(sse41234 / (n - k - 1))\n",
    "print(f\"f b4 setelah penambahan 4 variabel pada Model D1: {f41234}\")\n",
    "f_table = stats.f.ppf(0.95, 1, n-k-1)\n",
    "print(f\"f dari tabel: {f_table}\")"
   ]
  },
  {
   "cell_type": "code",
   "execution_count": null,
   "metadata": {},
   "outputs": [
    {
     "name": "stdout",
     "output_type": "stream",
     "text": [
      "MSE Model D2: [[3.87771164e+25]]\n",
      "f b5 setelah penambahan 4 variabel pada Model D2: [[0.27999489]]\n",
      "f dari tabel: 3.926606812744345\n"
     ]
    }
   ],
   "source": [
    "# Check whether the addition of b5 is significant or not (R(b5 | b1, b2, b3))\n",
    "# (R(b5 | b1, b2, b3) = R(b1, b2, b3, b5) - R(b1, b2, b3))\n",
    "k = 4\n",
    "\n",
    "sse2135 = np.matmul((Y - y_hat2135).T, (Y - y_hat2135))\n",
    "print(f\"MSE Model D2: {sse2135}\")\n",
    "f2135 = (Rb2135 - Rb213)/(sse2135 / (n - k - 1))\n",
    "print(f\"f b5 setelah penambahan 4 variabel pada Model D2: {f2135}\")\n",
    "f_table = stats.f.ppf(0.95, 1, n-k-1)\n",
    "print(f\"f dari tabel: {f_table}\")"
   ]
  },
  {
   "attachments": {},
   "cell_type": "markdown",
   "metadata": {},
   "source": [
    "Because the f-value of adding b4 and b5 < f-table, variables b4 and b5 are not significant when added to the previously obtained model.\n",
    "So the model used is b1, b2, b3"
   ]
  },
  {
   "cell_type": "code",
   "execution_count": 46,
   "metadata": {},
   "outputs": [
    {
     "name": "stdout",
     "output_type": "stream",
     "text": [
      "[[-1.45787120e+11]\n",
      " [-3.24013692e+00]\n",
      " [ 9.51317989e+00]\n",
      " [ 2.37756770e+10]]\n"
     ]
    }
   ],
   "source": [
    "# Calculate final model coefficients\n",
    "bfinal = calculate_b(create_X(df, 'Exports', 'Imports', 'Industrial production growth rate'), np.array([df['GDP']]).T)\n",
    "print(bfinal)"
   ]
  },
  {
   "attachments": {},
   "cell_type": "markdown",
   "metadata": {},
   "source": [
    "Final Result:\n",
    "- b0 = -1.46 E11\n",
    "- b1 = -3.24\n",
    "- b2 =  9.51\n",
    "- b3 =  2.38 E10\n",
    "\n",
    "Linear model equation:\n",
    "Y = -1.46*(10^11) - 3.24 * X1 + 9.51 * X2 + 2.38*(10^10) * X3"
   ]
  }
 ],
 "metadata": {
  "kernelspec": {
   "display_name": "base",
   "language": "python",
   "name": "python3"
  },
  "language_info": {
   "codemirror_mode": {
    "name": "ipython",
    "version": 3
   },
   "file_extension": ".py",
   "mimetype": "text/x-python",
   "name": "python",
   "nbconvert_exporter": "python",
   "pygments_lexer": "ipython3",
   "version": "3.10.9"
  },
  "orig_nbformat": 4
 },
 "nbformat": 4,
 "nbformat_minor": 2
}
